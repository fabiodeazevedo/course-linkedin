{
 "cells": [
  {
   "cell_type": "markdown",
   "metadata": {},
   "source": [
    "# A simple house value estimator\n",
    "\n",
    "This script defines a function to estimate the value of a house based on its square footage and number of bedrooms.\n",
    "\n",
    "It then demonstrates the function's usage by calculating and displaying the estimated value for a specific house.\n"
   ]
  },
  {
   "cell_type": "markdown",
   "metadata": {},
   "source": [
    "## Function Definition \n",
    "\n",
    "The segment where the estimate_house_value function is defined, outlining how the house value should be estimated based on given inputs."
   ]
  },
  {
   "cell_type": "code",
   "execution_count": 5,
   "metadata": {},
   "outputs": [],
   "source": [
    "def estimate_house_value(size_in_sqft, number_of_bedrooms):\n",
    "    \"\"\"\n",
    "    Estimate the market value of a house based on its size and number of bedrooms.\n",
    "\n",
    "    Args:\n",
    "        size_in_sqft (int or float): The size of the house in square feet.\n",
    "        number_of_bedrooms (int): The number of bedrooms in the house.\n",
    "\n",
    "    Returns:\n",
    "        int: The estimated value of the house in dollars.\n",
    "    \"\"\"\n",
    "\n",
    "    # Base value assumption: Every house has a starting value of $50,000 regardless of its size and number of bedrooms\n",
    "    value = 50000\n",
    "    \n",
    "    # Size adjustment: Increase the house value by $92 for every square foot\n",
    "    # This rate is based on the average market value per square foot\n",
    "    value += size_in_sqft * 92\n",
    "    \n",
    "    # Bedroom adjustment: Increase the house value by $10,000 for each bedroom\n",
    "    # Bedrooms add significant value due to higher demand for more living spaces\n",
    "    value += number_of_bedrooms * 10000\n",
    "\n",
    "    # Return the final estimated value\n",
    "    return value\n"
   ]
  },
  {
   "cell_type": "markdown",
   "metadata": {},
   "source": [
    "## Function Invocation and Result Display\n",
    "\n",
    "The segment where the function is invoked with specific arguments, and the estimated value is retrieved and displayed to the user. This demonstrates the application of the function and the presentation of its output in a meaningful way."
   ]
  },
  {
   "cell_type": "code",
   "execution_count": 2,
   "metadata": {},
   "outputs": [],
   "source": [
    "# Estimate the value of our house:\n",
    "# - 5 bedrooms\n",
    "# - 3800 sq ft\n",
    "# Actual value: $450,000"
   ]
  },
  {
   "cell_type": "code",
   "execution_count": 7,
   "metadata": {},
   "outputs": [
    {
     "name": "stdout",
     "output_type": "stream",
     "text": [
      "Estimated value:\n",
      "449600\n"
     ]
    }
   ],
   "source": [
    "# Calculate the estimated value of a house based on its size and number of bedrooms\n",
    "# The `estimate_house_value` function is called with a size of 3800 square feet and 5 bedrooms\n",
    "estimated_value = estimate_house_value(size_in_sqft=3800, number_of_bedrooms=5)\n",
    "\n",
    "# Display the estimated value of the house\n",
    "# First, print an introductory message\n",
    "print(\"Estimated value:\")\n",
    "\n",
    "# Then, print the calculated estimated value from the function\n",
    "# This value is displayed on the screen, allowing the user to see the house's estimated value\n",
    "print(estimated_value)\n"
   ]
  },
  {
   "cell_type": "markdown",
   "metadata": {},
   "source": [
    "Explanation of the Comments:\n",
    "\n",
    "- Function Call: The code snippet begins by calculating the estimated value of a house, specifically a 3800 square foot house with 5 bedrooms. Notably, the arguments size_in_sqft and number_of_bedrooms are explicitly named in the function call, clarifying the purpose of each value passed to the function.\n",
    "\n",
    "- Printing the Estimated Value: After the calculation, the code prints the estimated value. The printing process is split into two parts: an introductory message (\"Estimated value:\") and the actual estimated value. This approach makes the console output more readable and informative for the user"
   ]
  },
  {
   "cell_type": "markdown",
   "metadata": {},
   "source": []
  }
 ],
 "metadata": {
  "kernelspec": {
   "display_name": "ancar-eda-esat-001",
   "language": "python",
   "name": "python3"
  },
  "language_info": {
   "codemirror_mode": {
    "name": "ipython",
    "version": 3
   },
   "file_extension": ".py",
   "mimetype": "text/x-python",
   "name": "python",
   "nbconvert_exporter": "python",
   "pygments_lexer": "ipython3",
   "version": "3.10.12"
  }
 },
 "nbformat": 4,
 "nbformat_minor": 2
}
